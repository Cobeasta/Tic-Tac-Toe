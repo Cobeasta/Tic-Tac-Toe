{
  "nbformat": 4,
  "nbformat_minor": 0,
  "metadata": {
    "colab": {
      "name": "Solar-Image-Data_Analysis.ipynb",
      "provenance": [],
      "authorship_tag": "ABX9TyN0zG9gu1yTV9wgcCwJPI1v",
      "include_colab_link": true
    },
    "kernelspec": {
      "name": "python3",
      "display_name": "Python 3"
    },
    "accelerator": "GPU"
  },
  "cells": [
    {
      "cell_type": "markdown",
      "metadata": {
        "id": "view-in-github",
        "colab_type": "text"
      },
      "source": [
        "<a href=\"https://colab.research.google.com/github/Cobeasta/Tic-Tac-Toe/blob/master/Solar_Image_Data_Analysis.ipynb\" target=\"_parent\"><img src=\"https://colab.research.google.com/assets/colab-badge.svg\" alt=\"Open In Colab\"/></a>"
      ]
    },
    {
      "cell_type": "code",
      "metadata": {
        "id": "jAmlkSTau0Zd",
        "colab_type": "code",
        "outputId": "2511ebd9-a9cd-4dcc-cd44-d8f0c989ee66",
        "colab": {
          "base_uri": "https://localhost:8080/",
          "height": 34
        }
      },
      "source": [
        "from google.colab import drive\n",
        "drive.mount('/content/drive')"
      ],
      "execution_count": 0,
      "outputs": [
        {
          "output_type": "stream",
          "text": [
            "Drive already mounted at /content/drive; to attempt to forcibly remount, call drive.mount(\"/content/drive\", force_remount=True).\n"
          ],
          "name": "stdout"
        }
      ]
    },
    {
      "cell_type": "code",
      "metadata": {
        "id": "qF7VPWnJrTng",
        "colab_type": "code",
        "colab": {}
      },
      "source": [
        "import h5py\n",
        "import numpy as np\n",
        "\n",
        "with h5py.File(\"/content/drive/My Drive/Colab Notebooks/filt_image_data.h5\", 'r') as hf:\n",
        "    data = hf['filt_image_data'][:]\n",
        "    hf.close()\n",
        "\n",
        "with h5py.File(\"/content/drive/My Drive/Colab Notebooks/filt_current.h5\", 'r') as hf:\n",
        "    label = hf['filt_current'][:]\n",
        "    hf.close()\n",
        "\n",
        "image = np.reshape(data, (67316,128, 128))"
      ],
      "execution_count": 0,
      "outputs": []
    },
    {
      "cell_type": "code",
      "metadata": {
        "id": "pW0BrfpH_gkE",
        "colab_type": "code",
        "outputId": "69cf6993-0802-4846-a378-9bc6d1d8fb4c",
        "colab": {
          "base_uri": "https://localhost:8080/",
          "height": 34
        }
      },
      "source": [
        "image.shape "
      ],
      "execution_count": 0,
      "outputs": [
        {
          "output_type": "execute_result",
          "data": {
            "text/plain": [
              "(67316, 128, 128)"
            ]
          },
          "metadata": {
            "tags": []
          },
          "execution_count": 3
        }
      ]
    },
    {
      "cell_type": "code",
      "metadata": {
        "id": "ublBl4Z0_4nU",
        "colab_type": "code",
        "outputId": "9c14387a-fb01-4888-891f-fdb71423188f",
        "colab": {
          "base_uri": "https://localhost:8080/",
          "height": 34
        }
      },
      "source": [
        ""
      ],
      "execution_count": 0,
      "outputs": [
        {
          "output_type": "execute_result",
          "data": {
            "text/plain": [
              "(67316,)"
            ]
          },
          "metadata": {
            "tags": []
          },
          "execution_count": 19
        }
      ]
    }
  ]
}